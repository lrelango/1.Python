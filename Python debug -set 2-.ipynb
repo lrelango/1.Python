{
 "cells": [
  {
   "cell_type": "code",
   "id": "90e9fa4e",
   "metadata": {
    "ExecuteTime": {
     "end_time": "2025-06-12T10:55:20.580753Z",
     "start_time": "2025-06-12T10:55:20.573627Z"
    }
   },
   "source": [
    "#1.Find the error in the following Python code:\n",
    "import math\n",
    "print(math.sqrt(16))\n"
   ],
   "outputs": [
    {
     "name": "stdout",
     "output_type": "stream",
     "text": [
      "4.0\n"
     ]
    }
   ],
   "execution_count": 3
  },
  {
   "cell_type": "code",
   "id": "55520fd2",
   "metadata": {
    "ExecuteTime": {
     "end_time": "2025-06-12T10:56:22.002088Z",
     "start_time": "2025-06-12T10:56:21.987415Z"
    }
   },
   "source": [
    "#2.Find the error in the following Python code:\n",
    "def my_function(x):\n",
    "    x += 5\n",
    "    print(x)\n",
    "\n",
    "x = 10\n",
    "my_function(x)\n"
   ],
   "outputs": [
    {
     "name": "stdout",
     "output_type": "stream",
     "text": [
      "15\n"
     ]
    }
   ],
   "execution_count": 5
  },
  {
   "cell_type": "code",
   "id": "f23899ca",
   "metadata": {
    "ExecuteTime": {
     "end_time": "2025-06-12T10:56:43.082420Z",
     "start_time": "2025-06-12T10:56:43.071135Z"
    }
   },
   "source": [
    "#3.x = 5\n",
    "if x == 10:\n",
    "    print(\"x is 10\")\n"
   ],
   "outputs": [
    {
     "name": "stdout",
     "output_type": "stream",
     "text": [
      "x is 10\n"
     ]
    }
   ],
   "execution_count": 6
  },
  {
   "cell_type": "code",
   "id": "c644c2f2",
   "metadata": {
    "ExecuteTime": {
     "end_time": "2025-06-12T10:58:11.795531Z",
     "start_time": "2025-06-12T10:58:11.790608Z"
    }
   },
   "source": [
    "#4.\n",
    "numbers = [5, 3, 8, 2]\n",
    "numbers.sort()\n",
    "print(numbers)\n"
   ],
   "outputs": [
    {
     "name": "stdout",
     "output_type": "stream",
     "text": [
      "[2, 3, 5, 8]\n"
     ]
    }
   ],
   "execution_count": 8
  },
  {
   "cell_type": "code",
   "id": "c6bc9bfb",
   "metadata": {
    "ExecuteTime": {
     "end_time": "2025-06-12T10:58:34.553728Z",
     "start_time": "2025-06-12T10:58:34.547439Z"
    }
   },
   "source": [
    "#5.\n",
    "def square(n):\n",
    "    return n * n\n",
    "\n",
    "print(square(4))\n"
   ],
   "outputs": [
    {
     "name": "stdout",
     "output_type": "stream",
     "text": [
      "16\n"
     ]
    }
   ],
   "execution_count": 10
  },
  {
   "cell_type": "code",
   "id": "3a9dbcc0",
   "metadata": {
    "ExecuteTime": {
     "end_time": "2025-06-12T11:00:33.556755Z",
     "start_time": "2025-06-12T11:00:33.551434Z"
    }
   },
   "source": [
    "#6.\n",
    "my_tuple = (1, 2, 3)\n",
    "my_tuple = (1,5,3)\n",
    "print(my_tuple)\n"
   ],
   "outputs": [
    {
     "name": "stdout",
     "output_type": "stream",
     "text": [
      "(1, 5, 3)\n"
     ]
    }
   ],
   "execution_count": 12
  },
  {
   "cell_type": "code",
   "id": "4a72685b",
   "metadata": {
    "ExecuteTime": {
     "end_time": "2025-06-12T11:01:07.849069Z",
     "start_time": "2025-06-12T11:01:07.844267Z"
    }
   },
   "source": [
    "#7.\n",
    "name = \"Alice\"\n",
    "age = 25\n",
    "print(\"My name is %s and I am %d years old\" % (name, age))\n"
   ],
   "outputs": [
    {
     "name": "stdout",
     "output_type": "stream",
     "text": [
      "My name is Alice and I am 25 years old\n"
     ]
    }
   ],
   "execution_count": 14
  },
  {
   "cell_type": "code",
   "id": "3de969fe",
   "metadata": {
    "ExecuteTime": {
     "end_time": "2025-06-12T11:01:24.259340Z",
     "start_time": "2025-06-12T11:01:24.253245Z"
    }
   },
   "source": [
    "#8.\n",
    "a = [1, 2, 3]\n",
    "b = [1, 2, 3]\n",
    "if a == b:\n",
    "    print(\"Lists are equal\")\n"
   ],
   "outputs": [
    {
     "name": "stdout",
     "output_type": "stream",
     "text": [
      "Lists are equal\n"
     ]
    }
   ],
   "execution_count": 15
  },
  {
   "cell_type": "code",
   "id": "dbe38465",
   "metadata": {
    "ExecuteTime": {
     "end_time": "2025-06-12T11:01:54.115447Z",
     "start_time": "2025-06-12T11:01:54.109291Z"
    }
   },
   "source": [
    "#9.\n",
    "for i in range(5, 1,-1):\n",
    "    print(i)\n"
   ],
   "outputs": [
    {
     "name": "stdout",
     "output_type": "stream",
     "text": [
      "5\n",
      "4\n",
      "3\n",
      "2\n"
     ]
    }
   ],
   "execution_count": 17
  },
  {
   "cell_type": "code",
   "id": "30cb0523",
   "metadata": {
    "ExecuteTime": {
     "end_time": "2025-06-12T11:03:14.553481Z",
     "start_time": "2025-06-12T11:03:14.548293Z"
    }
   },
   "source": [
    "#10.\n",
    "student = {\"name\": \"John\", \"age\": 20}\n",
    "print(student[\"name\"])\n"
   ],
   "outputs": [
    {
     "name": "stdout",
     "output_type": "stream",
     "text": [
      "John\n"
     ]
    }
   ],
   "execution_count": 22
  }
 ],
 "metadata": {
  "kernelspec": {
   "display_name": "Python 3 (ipykernel)",
   "language": "python",
   "name": "python3"
  },
  "language_info": {
   "codemirror_mode": {
    "name": "ipython",
    "version": 3
   },
   "file_extension": ".py",
   "mimetype": "text/x-python",
   "name": "python",
   "nbconvert_exporter": "python",
   "pygments_lexer": "ipython3",
   "version": "3.7.6"
  }
 },
 "nbformat": 4,
 "nbformat_minor": 5
}
