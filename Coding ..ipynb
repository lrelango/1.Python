{
 "cells": [
  {
   "cell_type": "code",
   "id": "5fd5c475",
   "metadata": {
    "ExecuteTime": {
     "end_time": "2025-06-12T10:21:55.445298Z",
     "start_time": "2025-06-12T10:21:55.430017Z"
    }
   },
   "source": [
    "#1.Write a Python program that prints numbers from 1 to 5.\n",
    "#Expected Output: 1 2 3 4 5\n",
    "for i in range(1,6):\n",
    "    print(i)\n",
    "\n"
   ],
   "outputs": [
    {
     "name": "stdout",
     "output_type": "stream",
     "text": [
      "1\n",
      "2\n",
      "3\n",
      "4\n",
      "5\n"
     ]
    }
   ],
   "execution_count": 3
  },
  {
   "cell_type": "code",
   "id": "3c8bc472",
   "metadata": {
    "ExecuteTime": {
     "end_time": "2025-06-12T10:22:54.090098Z",
     "start_time": "2025-06-12T10:22:54.079675Z"
    }
   },
   "source": [
    "#2.Write a Python program to print the first 5 even numbers.\n",
    "# Expected Output: 2 4 6 8 10\n",
    "for i in range(2,11,2):\n",
    "    print(i)\n"
   ],
   "outputs": [
    {
     "name": "stdout",
     "output_type": "stream",
     "text": [
      "2\n",
      "4\n",
      "6\n",
      "8\n",
      "10\n"
     ]
    }
   ],
   "execution_count": 5
  },
  {
   "cell_type": "code",
   "id": "5e7af211",
   "metadata": {
    "ExecuteTime": {
     "end_time": "2025-06-12T10:24:03.105999Z",
     "start_time": "2025-06-12T10:24:03.100108Z"
    }
   },
   "source": [
    "#3.Write a Python program to print the sum of numbers from 1 to 10.\n",
    "#Expected Output:55\n",
    "sum=0\n",
    "for i in range(0,11):\n",
    "    sum=sum+i\n",
    "print(sum)"
   ],
   "outputs": [
    {
     "name": "stdout",
     "output_type": "stream",
     "text": [
      "55\n"
     ]
    }
   ],
   "execution_count": 8
  },
  {
   "cell_type": "code",
   "id": "ac09aa1a",
   "metadata": {
    "ExecuteTime": {
     "end_time": "2025-06-12T10:25:52.109693Z",
     "start_time": "2025-06-12T10:25:52.092498Z"
    }
   },
   "source": [
    "#4.Write a Python function to find the factorial of 5. Expected Output:\n",
    "#120\n",
    "sum=1\n",
    "for i in range(1,6):\n",
    "    sum=sum*i\n",
    "print(sum)\n",
    "\n"
   ],
   "outputs": [
    {
     "name": "stdout",
     "output_type": "stream",
     "text": [
      "120\n"
     ]
    }
   ],
   "execution_count": 14
  },
  {
   "cell_type": "code",
   "id": "8ab9fc8a",
   "metadata": {
    "ExecuteTime": {
     "end_time": "2025-06-12T10:38:11.808536Z",
     "start_time": "2025-06-12T10:38:07.468522Z"
    }
   },
   "source": [
    "#5.Write a Python program to check if a number is prime. Expected Output (for input 7): 7 is a prime number\n",
    "\n",
    "def is_prime(num):\n",
    "    if(num <=1):\n",
    "        return False\n",
    "    for i in range(2, int(num ** 0.5) + 1):\n",
    "        if num%i==0:\n",
    "            return False\n",
    "    return True\n",
    "\n",
    "num=int(input(\"Enter a number:\"))\n",
    "if is_prime(num):\n",
    "    print(f\"{num} is a prime number.\")\n",
    "else:\n",
    "    print(f\"{num} is not a prime number.\")\n",
    "\n",
    "\n",
    "\n"
   ],
   "outputs": [
    {
     "name": "stdout",
     "output_type": "stream",
     "text": [
      "7 is a prime number.\n"
     ]
    }
   ],
   "execution_count": 15
  }
 ],
 "metadata": {
  "kernelspec": {
   "display_name": "Python 3 (ipykernel)",
   "language": "python",
   "name": "python3"
  },
  "language_info": {
   "codemirror_mode": {
    "name": "ipython",
    "version": 3
   },
   "file_extension": ".py",
   "mimetype": "text/x-python",
   "name": "python",
   "nbconvert_exporter": "python",
   "pygments_lexer": "ipython3",
   "version": "3.7.6"
  }
 },
 "nbformat": 4,
 "nbformat_minor": 5
}
